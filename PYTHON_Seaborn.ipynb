{
 "cells": [
  {
   "cell_type": "code",
   "execution_count": null,
   "metadata": {},
   "outputs": [],
   "source": [
    "# line plot\n",
    "sns.lineplot(iris,x='sepal length (cm)',y='sepal width (cm)')\n",
    "sns.lineplot(iris,x='sepal length (cm)',y='sepal width (cm)',hue='target') # data split by hue\n",
    "# scatter plot\n",
    "sns.scatterplot(iris,x='sepal length (cm)',y='sepal width (cm)')\n",
    "sns.scatterplot(iris,x='sepal length (cm)',y='sepal width (cm)',hue='target') # data split by hue\n",
    "# histogram\n",
    "sns.histplot(iris, x='sepal length (cm)') # no y axis as histogram gives count by  X axis\n",
    "sns.histplot(iris, x='sepal length (cm)', hue='target')\n",
    "# PDF\n",
    "sns.kdeplot(iris,x='sepal length (cm)') # note the key work kdeplot for PDF function\n",
    "sns.kdeplot(iris,x='sepal length (cm)',hue='target')\n",
    "# box plot\n",
    "sns.boxplot(iris,x='sepal length (cm)')\n",
    "sns.boxplot(iris,y='sepal length (cm)')\n",
    "sns.boxplot(iris,y='sepal length (cm)', x='target')\n",
    "# violin plot\n",
    "sns.violinplot(iris,y='sepal length (cm)') # on top of box, this gives data density\n",
    "sns.violinplot(iris,y='sepal length (cm)', x='target') # make sure segment feature should be in x\n",
    "# pair plot\n",
    "sns.pairplot(iris)\n",
    "sns.pairplot(iris, hue='target')\n",
    "# heat map\n",
    "sns.heatmap(iris.corr(),annot=True, cmap='GnBu')\n",
    "# joint plot\n",
    "sns.jointplot(iris,x='sepal length (cm)', y='sepal width (cm)')\n",
    "sns.jointplot(iris,x='sepal length (cm)', y='sepal width (cm)', hue='target')"
   ]
  }
 ],
 "metadata": {
  "language_info": {
   "name": "python"
  }
 },
 "nbformat": 4,
 "nbformat_minor": 2
}
