{
 "cells": [
  {
   "cell_type": "code",
   "execution_count": null,
   "metadata": {},
   "outputs": [],
   "source": [
    "import numpy as np\n",
    "# creating array 1D\n",
    "a= np.array([1,2])\n",
    "print(a)\n",
    "# creating array 2D\n",
    "b= np.array([(1,9,3),(7,5,6)])\n",
    "print(b)\n",
    "# creating array 3D\n",
    "c= np.array([[(9,1,9),(7,4,6)],[(1,2,3),(6,4,5)],[(1,2,3),(5,4,6)]])\n",
    "print(c)\n",
    "\n",
    "# All array values should come within []\n",
    "# 3D array method can be remembered as (Height, Length, Breadth). Stacking up plates on top.\n",
    "# (2,1,3) & (3,2,3) arrays cannot be added as the axis 1 and axis 2 should match to join/combine/agg two arrays."
   ]
  },
  {
   "cell_type": "code",
   "execution_count": null,
   "metadata": {},
   "outputs": [],
   "source": [
    "# Initial placeholders\n",
    "x=np.zeros((3,4)) # array of all zeros\n",
    "x=np.ones((3,4),dtype=float) # array of all ones\n",
    "x=np.empty((3,2)) # unlike zeros, this doesnt set values to 0, so marginally faster.\n",
    "x=np.full((2,2),3) # 2X2 array with all values as 3\n",
    "\n",
    "y=np.arange(10,55,5) # creates 1D array starting from 10 to 55 with difference of 5\n",
    "y=np.linspace(10,55,5) # 1D array of size 5, evenly spaced between 10 to 55 # [10.   21.25 32.5  43.75 55.  ]\n",
    "y=np.eye(4) # 4X4 identity matrix # Diagnal to be 1 and rest all zero\n",
    "\n",
    "np.linspace(2,3,10) # range from 2 to 3, 10 values equal spaced\n",
    "np.arange(2,11,2) # range from 2 to 11, incremental of 2 from start value\n",
    "np.identity(2, dtype='float') # identity matrix with 1 in columns\n",
    "\n",
    "# integer random values\n",
    "np.random.randint() # ERROR, need atleast one value\n",
    "np.random.randint(100) # random no bw 0 to 100\n",
    "np.random.randint(3,100) # random number between 3 to 100\n",
    "np.random.randint(3,100, size=(3,4)) # random number b/w 3 to 100 of matrix size 3x4\n",
    "# float random values\n",
    "np.random.rand() # one random float value b/w 0 to 1\n",
    "np.random.rand(2) # two random float value b/w 0 to 1 - 1D array\n",
    "np.random.rand(3,4) # random values of 3x4 matrix between 0 to 1 - 2D array\n",
    "# using choice for random\n",
    "np.random.choice([3,5,7,9]) # return one value from the choice list\n",
    "np.random.choice([3,5,7,9], size=(3,4)) # 3x4 matrix with random values from the choice list"
   ]
  },
  {
   "cell_type": "code",
   "execution_count": null,
   "metadata": {},
   "outputs": [],
   "source": [
    "# Inspecting array\n",
    "len(c) # length of array # NOTE : len is not an attribute\n",
    "c.size # total entries (2,3,2) array, output will be 12\n",
    "c.shape # (2,1,2) which explains dimension of array\n",
    "c.ndim # no of array dimensions\n",
    "\n",
    "c.dtype # data type\n",
    "c.dtype.name # data type - almost same output as above\n",
    "n=c.astype(float) # datatype of array c is not overwritten, so creating a new array to have converted float values\n",
    "n.dtype # output will be float\n",
    "\n",
    "# Copy array\n",
    "h=c.view() # view is not a copy, any changes made to h will affect c\n",
    "h=c.copy() # h is a copy and any changes made to h will NOT affect c"
   ]
  },
  {
   "cell_type": "code",
   "execution_count": null,
   "metadata": {},
   "outputs": [],
   "source": [
    "# different data types\n",
    "np.int64\n",
    "np.float32\n",
    "np.complex # complex no's 128 float\n",
    "np.bool # True false values\n",
    "np.unicode_ # Fixed length unicode type\n",
    "np.string_ # Fixzed length string type\n",
    "np.object # python object"
   ]
  },
  {
   "cell_type": "code",
   "execution_count": null,
   "metadata": {},
   "outputs": [],
   "source": [
    "# Arithmetic operations\n",
    "\n",
    "a+b # Addition # Arrays of different shapes cannot perform arithmetic operation.\n",
    "# (2,3) array + (2,2,3) array can be added up.\n",
    "# (2,2) array + (2,2,3) array CANNOT be added up\n",
    "# same applies for all other aritmetic operations which involve 2 arrays.\n",
    "a-b # Subtraction\n",
    "a*b # Multiplication\n",
    "a/b # Division\n",
    "np.exp(b) # Exponentiation\n",
    "np.sqrt(c) # Square root\n",
    "\n",
    "b @ a # same as dot\n",
    "np.matmul(a,b) # same as dot\n",
    "np.dot(a,b) # Dot product\n",
    "np.einsum('ij,ij->i', a, b) # row wise dot product\n",
    "np.einsum('ij,ij->j', a, b) # column wise dot product\n",
    "\n",
    "\n",
    "# b.dot(a) - the final output array size will match the array size of a.\n",
    "# 3X3 .dot(3X2) - \"7\" method of multiplication is done.\n",
    "# 3X2 .dot(3X2) - this will throw error"
   ]
  },
  {
   "cell_type": "code",
   "execution_count": null,
   "metadata": {},
   "outputs": [],
   "source": [
    "# Comparison\n",
    "b==c # This will return an array of true/false. if the shape of array b & c is not comparable, then it will throw error.\n",
    "c<20 # return an array of True/False\n",
    "np.array_equal(f,c) # Compares each values in array f & c, if all matches then TRUE, else FALSE - TREUE/FALSE will be returned as single value and not as array elements\n",
    "np.dia(a) # print diagonal"
   ]
  },
  {
   "cell_type": "code",
   "execution_count": null,
   "metadata": {},
   "outputs": [],
   "source": [
    "# Aggregate functions\n",
    "c.sum()\n",
    "c.min()\n",
    "c.max()\n",
    "\n",
    "c.sum(axis=0)\n",
    "c.sum(axis=2)\n",
    "\n",
    "print(c)\n",
    "f=c.cumsum() # creates cumsum with 1D array as output\n",
    "print(f)\n",
    "c.std() # std\n",
    "c.mean() # mean across all values in array\n",
    "np.median(c) # note the syntax difference"
   ]
  },
  {
   "cell_type": "code",
   "execution_count": null,
   "metadata": {},
   "outputs": [],
   "source": [
    "# sorting\n",
    "b.sort() # general sort on axis=1 (row) 2D array\n",
    "b.sort(axis=0) # sort on axis=0 (column) 2D array\n",
    "c.sort() # general sort on axis = 2 (row) 3D array\n",
    "c.sort(axis=1) # sort on axis = 1 (column) 3D array\n",
    "c.sort(axis=0) # sort on axis = 0 (height) 3D array\n",
    "\n",
    "a = np.array([3, 1, 2])\n",
    "np.argsort(a) # after sorting, what would be the order of indices -> that gets printed\n",
    "# output = [1,2,0]\n",
    "\n",
    "a = np.array([[3, 0, 0], [0, 4, 0], [5, 6, 0]])\n",
    "non_zero_ind = np.nonzero(a) # this gives a tuple of arrays, unreadable format - Prints indexes of non zero elements\n",
    "print(np.transpose(non_zero_ind)) # convert to a readable format\n",
    "a[np.nonzero(a)] #print non zero elements"
   ]
  },
  {
   "cell_type": "code",
   "execution_count": null,
   "metadata": {},
   "outputs": [],
   "source": [
    "# For subsetting and slicing, think 3D array as a layer\n",
    "# Subsetting\n",
    "\n",
    "print(c)\n",
    "#c[0]\n",
    "c[1,0,1]\n",
    "\n",
    "# Slicing\n",
    "print(c[0:2])\n",
    "print(c)\n",
    "#print(c[0:2,1,2]) # Final result will be 1D array. 0:2 - this will take values of Position (0,1)\n",
    "print(c[0:2,1,0:2]) # Final result will be 2D array.\n",
    "print(c)\n",
    "#c[1,:,2] # sections, rows, columns\n",
    "x=c[:,:,-1]\n",
    "x.shape\n",
    "# Boolean indexing\n",
    "c[c<4] # new 1D array with values of c<4\n",
    "c<4 # array of T/F condition"
   ]
  },
  {
   "cell_type": "code",
   "execution_count": null,
   "metadata": {},
   "outputs": [],
   "source": [
    "# Array manipulation\n",
    "i=np.transpose(c) # 3X2 matrix will be transformed to 2X3 matrix\n",
    "c.T # performs same operation as above\n",
    "\n",
    "v=c.ravel() #Flatten the array\n",
    "c.reshape(6,3,1) # eg: if 18 elements in array, you can reshape to any type of matrix\n",
    "\n",
    "# Combining arrays\n",
    "np.insert(b,1,13) # Insert 13 at 1st position # if b is 2D/3D array, after inserting, gets converted to 1D array # Original b or c array doesnt get updated, will get create it as a new array\n",
    "np.delete(b,1) # delete the value in 1st position\n",
    "np.delete(b,[1]) # performs same operation as above\n",
    "np.append(b,c) # append values of array c behind array b # o/p will be 1D array\n",
    "\n",
    "np.vstack((b,b)) # Stack arrays vertically ( append/Join as rows)\n",
    "np.concatenate((b,b)) # Performs same as above\n",
    "np.r_[b,b] # Performs same as above\n",
    "\n",
    "np.hstack((b,b)) # Stack arrays horizontally ( append/Join as columns)\n",
    "np.concatenate((b,b),axis = 1) # Performs same as above\n",
    "np.c_[b,b] # Performs same as above\n",
    "\n",
    "# Splitting arrays\n",
    "np.hsplit(b,1)\n",
    "np.vsplit(c,1)"
   ]
  },
  {
   "cell_type": "code",
   "execution_count": null,
   "metadata": {},
   "outputs": [],
   "source": [
    "np.unique(a) # unique values in a\n",
    "np.unique(a, axis=0) # unique rows\n",
    "np.unique(a, axis=1) # unique columns\n",
    "np.squeeze(a) # returns single 1D array"
   ]
  }
 ],
 "metadata": {
  "language_info": {
   "name": "python"
  }
 },
 "nbformat": 4,
 "nbformat_minor": 2
}
